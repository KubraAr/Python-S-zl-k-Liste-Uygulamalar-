{
 "cells": [
  {
   "cell_type": "code",
   "execution_count": 2,
   "id": "04451608-20ad-4164-9b25-cd6a33ce4e4e",
   "metadata": {},
   "outputs": [
    {
     "name": "stdout",
     "output_type": "stream",
     "text": [
      "[1, 2, 3, 5, 8]\n"
     ]
    }
   ],
   "source": [
    "#1\n",
    "numaralar = [8, 3, 8, 1, 2, 3, 5, 5]\n",
    "benzersiz = list(set(numaralar)) #set kullanarak tekrar edenler kaldırılmış olur.\n",
    "print(benzersiz)"
   ]
  },
  {
   "cell_type": "code",
   "execution_count": 4,
   "id": "3624c702-451a-4475-9de6-12f5dcb2ce1b",
   "metadata": {},
   "outputs": [
    {
     "name": "stdout",
     "output_type": "stream",
     "text": [
      "{'isim': 'Haruki', 'ülke': 'Japonya'}\n"
     ]
    }
   ],
   "source": [
    "#2\n",
    "sanatci = {\"isim\": \"Haruki\"}\n",
    "sanatci[\"ülke\"] = \"Japonya\"\n",
    "print(sanatci)"
   ]
  },
  {
   "cell_type": "code",
   "execution_count": 10,
   "id": "55bb0631-3c96-4668-994e-a30bffb05a49",
   "metadata": {},
   "outputs": [
    {
     "name": "stdin",
     "output_type": "stream",
     "text": [
      "Almak istediğiniz kitabın adını girin:  Sefiller\n",
      "Kaç adet almak istiyorsunuz?  2\n"
     ]
    },
    {
     "name": "stdout",
     "output_type": "stream",
     "text": [
      "'Sefiller' kitabından 2 adet siparişiniz alınmıştır.\n"
     ]
    }
   ],
   "source": [
    "#3\n",
    "kitap_stok = {\"1984\": 4, \"Sefiller\": 2, \"Martı\": 5}\n",
    "\n",
    "kitap_adi = input(\"Almak istediğiniz kitabın adını girin: \")\n",
    "adet = int(input(\"Kaç adet almak istiyorsunuz? \"))\n",
    "\n",
    "if kitap_adi in kitap_stok and kitap_stok[kitap_adi] >= adet:\n",
    "    print(f\"'{kitap_adi}' kitabından {adet} adet siparişiniz alınmıştır.\")\n",
    "    kitap_stok[kitap_adi] -= adet\n",
    "else:\n",
    "    print(\"Yetersiz stok.\")"
   ]
  },
  {
   "cell_type": "code",
   "execution_count": 12,
   "id": "717c1754-9788-43f7-9ad9-4193a979a94a",
   "metadata": {},
   "outputs": [
    {
     "name": "stdin",
     "output_type": "stream",
     "text": [
      "Almak istediğiniz kitabın adını girin:  1984\n",
      "Kaç adet almak istiyorsunuz?  8\n"
     ]
    },
    {
     "name": "stdout",
     "output_type": "stream",
     "text": [
      "Yetersiz stok.\n"
     ]
    }
   ],
   "source": [
    "#3\n",
    "kitap_stok = {\"1984\": 4, \"Sefiller\": 2, \"Martı\": 5}\n",
    "\n",
    "kitap_adi = input(\"Almak istediğiniz kitabın adını girin: \")\n",
    "adet = int(input(\"Kaç adet almak istiyorsunuz? \"))\n",
    "\n",
    "if kitap_adi in kitap_stok and kitap_stok[kitap_adi] >= adet:\n",
    "    print(f\"'{kitap_adi}' kitabından {adet} adet siparişiniz alınmıştır.\")\n",
    "    kitap_stok[kitap_adi] -= adet\n",
    "else:\n",
    "    print(\"Yetersiz stok.\")"
   ]
  },
  {
   "cell_type": "code",
   "execution_count": 14,
   "id": "06db527a-2640-40bc-bf18-f21b58a8e077",
   "metadata": {},
   "outputs": [
    {
     "name": "stdout",
     "output_type": "stream",
     "text": [
      "2015 yılından sonra çıkan ürünler:\n",
      " Telefon\n",
      " Laptop\n"
     ]
    }
   ],
   "source": [
    "#4\n",
    "urunler = {\n",
    "    \"Telefon\": {\"yil\": 2019},\n",
    "    \"Televizyon\": {\"yil\": 2014},\n",
    "    \"Laptop\": {\"yil\": 2021}\n",
    "}\n",
    "\n",
    "print(\"2015 yılından sonra çıkan ürünler:\")\n",
    "for urunAdi,bilgi in urunler.items():\n",
    "    if bilgi[\"yil\"] > 2015:\n",
    "        print(f\" {urunAdi}\")"
   ]
  },
  {
   "cell_type": "code",
   "execution_count": 16,
   "id": "06ef4879-77a2-4020-8a61-b71e8619b54e",
   "metadata": {},
   "outputs": [
    {
     "name": "stdout",
     "output_type": "stream",
     "text": [
      "{'isim': 'Nihan', 'hobiler': ['yoga', 'resim', 'yüzme']}\n"
     ]
    }
   ],
   "source": [
    "#5\n",
    "profil = {\n",
    "    \"isim\": \"Nihan\",\n",
    "    \"hobiler\": [\"yoga\", \"resim\"]\n",
    "}\n",
    "\n",
    "profil[\"hobiler\"].append(\"yüzme\")\n",
    "print(profil)"
   ]
  },
  {
   "cell_type": "code",
   "execution_count": 18,
   "id": "1539be55-740f-4c65-8773-92dd3e2b7e19",
   "metadata": {},
   "outputs": [
    {
     "name": "stdout",
     "output_type": "stream",
     "text": [
      "ad: Veri Bilimi\n",
      "süre: 6 hafta\n",
      "seviye: Orta\n"
     ]
    }
   ],
   "source": [
    "#6\n",
    "kurs = {\n",
    "    \"ad\": \"Veri Bilimi\",\n",
    "    \"süre\": \"6 hafta\",\n",
    "    \"seviye\": \"Orta\"\n",
    "}\n",
    "\n",
    "for anahtar, deger in kurs.items():\n",
    "    print(f\"{anahtar}: {deger}\")"
   ]
  },
  {
   "cell_type": "code",
   "execution_count": 22,
   "id": "eb9f54c3-b591-43e1-be35-3122184d712a",
   "metadata": {},
   "outputs": [
    {
     "name": "stdout",
     "output_type": "stream",
     "text": [
      "Puanı 85 ve üzeri olan öğrenciler:\n",
      " Ekin\n",
      " Deniz\n"
     ]
    }
   ],
   "source": [
    "#7\n",
    "notlar = {\n",
    "    \"Ekin\": 91,\n",
    "    \"Barış\": 76,\n",
    "    \"Deniz\": 88,\n",
    "    \"Umut\": 63\n",
    "}\n",
    "\n",
    "print(\"Puanı 85 ve üzeri olan öğrenciler:\")\n",
    "for ogrenci, puan in notlar.items():\n",
    "    if puan >= 85:\n",
    "        print(f\" {ogrenci}\")"
   ]
  },
  {
   "cell_type": "code",
   "execution_count": 26,
   "id": "13089493-1050-4b1f-9c99-f8f3c7c34f50",
   "metadata": {},
   "outputs": [
    {
     "name": "stdin",
     "output_type": "stream",
     "text": [
      "Bilgi almak istediğiniz şehri girin:  Madrid\n"
     ]
    },
    {
     "name": "stdout",
     "output_type": "stream",
     "text": [
      "Madrid şehrinin nüfusu: 3200000\n"
     ]
    }
   ],
   "source": [
    "#8\n",
    "sehir_bilgi = {\n",
    "    \"Berlin\": {\"nüfus\": 3_600_000},\n",
    "    \"Madrid\": {\"nüfus\": 3_200_000}\n",
    "}\n",
    "\n",
    "sehir = input(\"Bilgi almak istediğiniz şehri girin: \")\n",
    "if sehir in sehir_bilgi:\n",
    "    print(f\"{sehir} şehrinin nüfusu: {sehir_bilgi[sehir]['nüfus']}\")\n",
    "else:\n",
    "    print(\"Veri yok\")"
   ]
  },
  {
   "cell_type": "code",
   "execution_count": 30,
   "id": "360ec280-02d0-4e05-b724-efdbb9a14313",
   "metadata": {},
   "outputs": [
    {
     "name": "stdout",
     "output_type": "stream",
     "text": [
      "{'masa': 1380.0, 'sandalye': 517.5, 'lamba': 345.0}\n"
     ]
    }
   ],
   "source": [
    "#9\n",
    "fiyatlar = {\n",
    "    \"masa\": 1200,\n",
    "    \"sandalye\": 450,\n",
    "    \"lamba\": 300\n",
    "}\n",
    "\n",
    "for urun, fiyat in fiyatlar.items():\n",
    "    fiyatlar[urun] = fiyat * 1.15\n",
    "print(fiyatlar)"
   ]
  },
  {
   "cell_type": "code",
   "execution_count": 32,
   "id": "d8660a31-ffeb-44ae-9cab-f6033219ec46",
   "metadata": {},
   "outputs": [
    {
     "name": "stdout",
     "output_type": "stream",
     "text": [
      "Aktif olan projeler:\n",
      " ProjeX\n",
      " ProjeZ\n"
     ]
    }
   ],
   "source": [
    "#10\n",
    "projeler = {\n",
    "    \"ProjeX\": {\"durum\": \"aktif\", \"süre\": 3},\n",
    "    \"ProjeY\": {\"durum\": \"tamamlandı\", \"süre\": 6},\n",
    "    \"ProjeZ\": {\"durum\": \"aktif\", \"süre\": 2}\n",
    "}\n",
    "\n",
    "print(\"Aktif olan projeler:\")\n",
    "for proje_adi, proje_bilgisi in projeler.items():\n",
    "    if proje_bilgisi[\"durum\"] == \"aktif\":\n",
    "        print(f\" {proje_adi}\")"
   ]
  }
 ],
 "metadata": {
  "kernelspec": {
   "display_name": "Python [conda env:base] *",
   "language": "python",
   "name": "conda-base-py"
  },
  "language_info": {
   "codemirror_mode": {
    "name": "ipython",
    "version": 3
   },
   "file_extension": ".py",
   "mimetype": "text/x-python",
   "name": "python",
   "nbconvert_exporter": "python",
   "pygments_lexer": "ipython3",
   "version": "3.12.7"
  }
 },
 "nbformat": 4,
 "nbformat_minor": 5
}
